{
 "cells": [
  {
   "cell_type": "code",
   "execution_count": 3,
   "id": "04d01e15",
   "metadata": {},
   "outputs": [
    {
     "name": "stdout",
     "output_type": "stream",
     "text": [
      "<class 'pandas.core.frame.DataFrame'>\n",
      "RangeIndex: 29500 entries, 0 to 29499\n",
      "Data columns (total 14 columns):\n",
      " #   Column                       Non-Null Count  Dtype  \n",
      "---  ------                       --------------  -----  \n",
      " 0   sha                          17420 non-null  object \n",
      " 1   source_x                     29500 non-null  object \n",
      " 2   title                        29491 non-null  object \n",
      " 3   doi                          26357 non-null  object \n",
      " 4   pmcid                        27337 non-null  object \n",
      " 5   pubmed_id                    16730 non-null  float64\n",
      " 6   license                      17692 non-null  object \n",
      " 7   abstract                     26909 non-null  object \n",
      " 8   publish_time                 18604 non-null  object \n",
      " 9   authors                      28903 non-null  object \n",
      " 10  journal                      17791 non-null  object \n",
      " 11  Microsoft Academic Paper ID  1134 non-null   float64\n",
      " 12  WHO #Covidence               1236 non-null   object \n",
      " 13  has_full_text                17420 non-null  object \n",
      "dtypes: float64(2), object(12)\n",
      "memory usage: 3.2+ MB\n"
     ]
    }
   ],
   "source": [
    "# import pandas as pd\n",
    "# from sklearn.datasets import load_iris\n",
    "\n",
    "# iris = load_iris()\n",
    "# iris_df = pd.DataFrame(data=iris['data'], columns=iris['feature_names'])\n",
    "\n",
    "import pandas as pd\n",
    "import numpy as np\n",
    "import matplotlib.pyplot as plt\n",
    "\n",
    "df = pd.read_csv(\"../../metaDataCov/metadata.csv\")\n",
    "df.info()"
   ]
  },
  {
   "cell_type": "code",
   "execution_count": 17,
   "id": "a4292ce0",
   "metadata": {},
   "outputs": [
    {
     "data": {
      "text/plain": [
       "0    0\n",
       "1    0\n",
       "2     \n",
       "3    0\n",
       "dtype: object"
      ]
     },
     "execution_count": 17,
     "metadata": {},
     "output_type": "execute_result"
    }
   ],
   "source": [
    "example1 = pd.Series([0, np.nan, '', None]) \n",
    "# example1.notnull()\n",
    "# example1.dropna()\n",
    "# example1.isna()\n",
    "# example1.isnull()\n",
    "# example1.dropna?\n",
    "# example2.dropna(axis='rows', thresh=3) axis pour definir si ce seront les ligne ou colonne qui seront supprimées\n",
    "# thresh pour vous définissez le nombre de valeurs non nulles qu'une ligne ou une colonne doit avoir pour être conservée\n",
    "example1.fillna(0)    #Pour remplacer les champs vides par 0\n",
    "#example3.fillna(method='ffill') pour remplacer la partie nulle par la précédente valeur valide\n",
    "# example3.fillna(method='bfill') par la suivante valeur valide\n",
    "# example2.fillna(method='ffill', axis=1) pour définir l'axe de remplissage. 1 pour columns"
   ]
  },
  {
   "cell_type": "code",
   "execution_count": 18,
   "id": "74307827",
   "metadata": {},
   "outputs": [
    {
     "data": {
      "text/plain": [
       "0        False\n",
       "1        False\n",
       "2        False\n",
       "3        False\n",
       "4        False\n",
       "         ...  \n",
       "29495    False\n",
       "29496    False\n",
       "29497    False\n",
       "29498    False\n",
       "29499    False\n",
       "Name: authors, Length: 29500, dtype: bool"
      ]
     },
     "execution_count": 18,
     "metadata": {},
     "output_type": "execute_result"
    }
   ],
   "source": [
    "example2 = df['authors'].duplicated() # drop_duplicates()\n",
    "example2"
   ]
  },
  {
   "cell_type": "code",
   "execution_count": null,
   "id": "c79f390b",
   "metadata": {},
   "outputs": [],
   "source": []
  }
 ],
 "metadata": {
  "kernelspec": {
   "display_name": "Python 3 (ipykernel)",
   "language": "python",
   "name": "python3"
  },
  "language_info": {
   "codemirror_mode": {
    "name": "ipython",
    "version": 3
   },
   "file_extension": ".py",
   "mimetype": "text/x-python",
   "name": "python",
   "nbconvert_exporter": "python",
   "pygments_lexer": "ipython3",
   "version": "3.10.6"
  }
 },
 "nbformat": 4,
 "nbformat_minor": 5
}
